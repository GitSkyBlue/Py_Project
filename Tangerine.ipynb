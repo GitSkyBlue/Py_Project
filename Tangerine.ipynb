{
 "cells": [
  {
   "cell_type": "markdown",
   "metadata": {},
   "source": [
    "## 필요한 모듈 임포트"
   ]
  },
  {
   "cell_type": "code",
   "execution_count": 6,
   "metadata": {},
   "outputs": [],
   "source": [
    "import pandas as pd\n",
    "import seaborn as sns\n",
    "from sklearn.model_selection import train_test_split\n",
    "import matplotlib.pyplot as plt\n",
    "\n",
    "plt.rcParams['axes.unicode_minus'] = False"
   ]
  },
  {
   "cell_type": "markdown",
   "metadata": {},
   "source": [
    "## train, test 데이터 가져오기"
   ]
  },
  {
   "cell_type": "code",
   "execution_count": 7,
   "metadata": {},
   "outputs": [],
   "source": [
    "train = pd.read_csv('tangerine/train.csv')\n",
    "test = pd.read_csv('tangerine/test.csv')"
   ]
  },
  {
   "cell_type": "code",
   "execution_count": 8,
   "metadata": {},
   "outputs": [
    {
     "data": {
      "text/html": [
       "<div>\n",
       "<style scoped>\n",
       "    .dataframe tbody tr th:only-of-type {\n",
       "        vertical-align: middle;\n",
       "    }\n",
       "\n",
       "    .dataframe tbody tr th {\n",
       "        vertical-align: top;\n",
       "    }\n",
       "\n",
       "    .dataframe thead th {\n",
       "        text-align: right;\n",
       "    }\n",
       "</style>\n",
       "<table border=\"1\" class=\"dataframe\">\n",
       "  <thead>\n",
       "    <tr style=\"text-align: right;\">\n",
       "      <th></th>\n",
       "      <th>ID</th>\n",
       "      <th>착과량(int)</th>\n",
       "      <th>수고(m)</th>\n",
       "      <th>수관폭1(min)</th>\n",
       "      <th>수관폭2(max)</th>\n",
       "      <th>수관폭평균</th>\n",
       "      <th>2022-09-01 새순</th>\n",
       "      <th>2022-09-02 새순</th>\n",
       "      <th>2022-09-03 새순</th>\n",
       "      <th>2022-09-04 새순</th>\n",
       "      <th>...</th>\n",
       "      <th>2022-11-19 엽록소</th>\n",
       "      <th>2022-11-20 엽록소</th>\n",
       "      <th>2022-11-21 엽록소</th>\n",
       "      <th>2022-11-22 엽록소</th>\n",
       "      <th>2022-11-23 엽록소</th>\n",
       "      <th>2022-11-24 엽록소</th>\n",
       "      <th>2022-11-25 엽록소</th>\n",
       "      <th>2022-11-26 엽록소</th>\n",
       "      <th>2022-11-27 엽록소</th>\n",
       "      <th>2022-11-28 엽록소</th>\n",
       "    </tr>\n",
       "  </thead>\n",
       "  <tbody>\n",
       "    <tr>\n",
       "      <th>0</th>\n",
       "      <td>TRAIN_0000</td>\n",
       "      <td>692</td>\n",
       "      <td>275.0</td>\n",
       "      <td>287.0</td>\n",
       "      <td>292.0</td>\n",
       "      <td>289.5</td>\n",
       "      <td>2.8</td>\n",
       "      <td>2.8</td>\n",
       "      <td>2.7</td>\n",
       "      <td>2.7</td>\n",
       "      <td>...</td>\n",
       "      <td>70.978249</td>\n",
       "      <td>70.876794</td>\n",
       "      <td>70.705253</td>\n",
       "      <td>70.559603</td>\n",
       "      <td>70.427356</td>\n",
       "      <td>70.340491</td>\n",
       "      <td>70.293830</td>\n",
       "      <td>70.262422</td>\n",
       "      <td>70.169841</td>\n",
       "      <td>70.043251</td>\n",
       "    </tr>\n",
       "    <tr>\n",
       "      <th>1</th>\n",
       "      <td>TRAIN_0001</td>\n",
       "      <td>534</td>\n",
       "      <td>293.0</td>\n",
       "      <td>284.0</td>\n",
       "      <td>336.0</td>\n",
       "      <td>310.0</td>\n",
       "      <td>3.3</td>\n",
       "      <td>3.3</td>\n",
       "      <td>3.3</td>\n",
       "      <td>3.2</td>\n",
       "      <td>...</td>\n",
       "      <td>71.535483</td>\n",
       "      <td>71.382303</td>\n",
       "      <td>71.253604</td>\n",
       "      <td>71.092665</td>\n",
       "      <td>70.955608</td>\n",
       "      <td>70.796630</td>\n",
       "      <td>70.597550</td>\n",
       "      <td>70.565088</td>\n",
       "      <td>70.560502</td>\n",
       "      <td>70.427600</td>\n",
       "    </tr>\n",
       "    <tr>\n",
       "      <th>2</th>\n",
       "      <td>TRAIN_0002</td>\n",
       "      <td>634</td>\n",
       "      <td>300.0</td>\n",
       "      <td>392.0</td>\n",
       "      <td>450.0</td>\n",
       "      <td>421.0</td>\n",
       "      <td>3.0</td>\n",
       "      <td>2.9</td>\n",
       "      <td>2.9</td>\n",
       "      <td>2.9</td>\n",
       "      <td>...</td>\n",
       "      <td>71.279804</td>\n",
       "      <td>71.199570</td>\n",
       "      <td>71.144020</td>\n",
       "      <td>71.026740</td>\n",
       "      <td>70.920038</td>\n",
       "      <td>70.876723</td>\n",
       "      <td>70.710129</td>\n",
       "      <td>70.595971</td>\n",
       "      <td>70.418203</td>\n",
       "      <td>70.399578</td>\n",
       "    </tr>\n",
       "    <tr>\n",
       "      <th>3</th>\n",
       "      <td>TRAIN_0003</td>\n",
       "      <td>639</td>\n",
       "      <td>289.0</td>\n",
       "      <td>368.0</td>\n",
       "      <td>379.0</td>\n",
       "      <td>373.5</td>\n",
       "      <td>3.1</td>\n",
       "      <td>3.0</td>\n",
       "      <td>3.0</td>\n",
       "      <td>3.0</td>\n",
       "      <td>...</td>\n",
       "      <td>69.934615</td>\n",
       "      <td>69.884124</td>\n",
       "      <td>69.845683</td>\n",
       "      <td>69.794682</td>\n",
       "      <td>69.779813</td>\n",
       "      <td>69.614644</td>\n",
       "      <td>69.455404</td>\n",
       "      <td>69.281590</td>\n",
       "      <td>69.238689</td>\n",
       "      <td>69.133970</td>\n",
       "    </tr>\n",
       "    <tr>\n",
       "      <th>4</th>\n",
       "      <td>TRAIN_0004</td>\n",
       "      <td>496</td>\n",
       "      <td>306.0</td>\n",
       "      <td>353.0</td>\n",
       "      <td>358.0</td>\n",
       "      <td>355.5</td>\n",
       "      <td>3.7</td>\n",
       "      <td>3.6</td>\n",
       "      <td>3.6</td>\n",
       "      <td>3.6</td>\n",
       "      <td>...</td>\n",
       "      <td>68.313016</td>\n",
       "      <td>68.285364</td>\n",
       "      <td>68.209860</td>\n",
       "      <td>68.209458</td>\n",
       "      <td>68.040083</td>\n",
       "      <td>67.859963</td>\n",
       "      <td>67.775556</td>\n",
       "      <td>67.701456</td>\n",
       "      <td>67.504244</td>\n",
       "      <td>67.410093</td>\n",
       "    </tr>\n",
       "  </tbody>\n",
       "</table>\n",
       "<p>5 rows × 184 columns</p>\n",
       "</div>"
      ],
      "text/plain": [
       "           ID  착과량(int)  수고(m)  수관폭1(min)  수관폭2(max)  수관폭평균  2022-09-01 새순  \\\n",
       "0  TRAIN_0000       692  275.0      287.0      292.0  289.5            2.8   \n",
       "1  TRAIN_0001       534  293.0      284.0      336.0  310.0            3.3   \n",
       "2  TRAIN_0002       634  300.0      392.0      450.0  421.0            3.0   \n",
       "3  TRAIN_0003       639  289.0      368.0      379.0  373.5            3.1   \n",
       "4  TRAIN_0004       496  306.0      353.0      358.0  355.5            3.7   \n",
       "\n",
       "   2022-09-02 새순  2022-09-03 새순  2022-09-04 새순  ...  2022-11-19 엽록소  \\\n",
       "0            2.8            2.7            2.7  ...       70.978249   \n",
       "1            3.3            3.3            3.2  ...       71.535483   \n",
       "2            2.9            2.9            2.9  ...       71.279804   \n",
       "3            3.0            3.0            3.0  ...       69.934615   \n",
       "4            3.6            3.6            3.6  ...       68.313016   \n",
       "\n",
       "   2022-11-20 엽록소  2022-11-21 엽록소  2022-11-22 엽록소  2022-11-23 엽록소  \\\n",
       "0       70.876794       70.705253       70.559603       70.427356   \n",
       "1       71.382303       71.253604       71.092665       70.955608   \n",
       "2       71.199570       71.144020       71.026740       70.920038   \n",
       "3       69.884124       69.845683       69.794682       69.779813   \n",
       "4       68.285364       68.209860       68.209458       68.040083   \n",
       "\n",
       "   2022-11-24 엽록소  2022-11-25 엽록소  2022-11-26 엽록소  2022-11-27 엽록소  \\\n",
       "0       70.340491       70.293830       70.262422       70.169841   \n",
       "1       70.796630       70.597550       70.565088       70.560502   \n",
       "2       70.876723       70.710129       70.595971       70.418203   \n",
       "3       69.614644       69.455404       69.281590       69.238689   \n",
       "4       67.859963       67.775556       67.701456       67.504244   \n",
       "\n",
       "   2022-11-28 엽록소  \n",
       "0       70.043251  \n",
       "1       70.427600  \n",
       "2       70.399578  \n",
       "3       69.133970  \n",
       "4       67.410093  \n",
       "\n",
       "[5 rows x 184 columns]"
      ]
     },
     "execution_count": 8,
     "metadata": {},
     "output_type": "execute_result"
    }
   ],
   "source": [
    "train.head()"
   ]
  },
  {
   "cell_type": "markdown",
   "metadata": {},
   "source": [
    "## 데이터 전처리"
   ]
  },
  {
   "cell_type": "markdown",
   "metadata": {},
   "source": [
    "#### 필요없는 ID 피처 삭제"
   ]
  },
  {
   "cell_type": "code",
   "execution_count": 9,
   "metadata": {},
   "outputs": [],
   "source": [
    "train.drop('ID', axis=1, inplace=True)\n",
    "test.drop('ID', axis=1, inplace=True)"
   ]
  },
  {
   "cell_type": "markdown",
   "metadata": {},
   "source": [
    "#### 새순과 엽록소 피처들을 하나로 모은 뒤 평균값을 추가"
   ]
  },
  {
   "cell_type": "code",
   "execution_count": 10,
   "metadata": {},
   "outputs": [],
   "source": [
    "s_train = train.filter(regex='새순', axis=1)\n",
    "y_train = train.filter(regex='엽록소', axis=1)\n",
    "s_test = test.filter(regex='새순', axis=1)\n",
    "y_test = test.filter(regex='엽록소', axis=1)"
   ]
  },
  {
   "cell_type": "code",
   "execution_count": 11,
   "metadata": {},
   "outputs": [],
   "source": [
    "train['Mean_s'] = s_train.mean(axis=1)\n",
    "train['Mean_y'] = y_train.mean(axis=1)\n",
    "test['Mean_s'] = s_test.mean(axis=1)\n",
    "test['Mean_y'] = y_test.mean(axis=1)"
   ]
  },
  {
   "cell_type": "markdown",
   "metadata": {},
   "source": [
    "#### '새순' 과 '엽록소' 가 들어간 피처들 제거"
   ]
  },
  {
   "cell_type": "code",
   "execution_count": 12,
   "metadata": {},
   "outputs": [],
   "source": [
    "train.drop(train.filter(regex='새순'), axis=1, inplace=True)\n",
    "train.drop(train.filter(regex='엽록소'), axis=1, inplace=True)\n",
    "test.drop(test.filter(regex='새순'), axis=1, inplace=True)\n",
    "test.drop(test.filter(regex='엽록소'), axis=1, inplace=True)"
   ]
  },
  {
   "cell_type": "markdown",
   "metadata": {},
   "source": [
    "## 상관계수 히트맵으로 확인"
   ]
  },
  {
   "cell_type": "code",
   "execution_count": 13,
   "metadata": {},
   "outputs": [
    {
     "data": {
      "image/png": "[encoded data removed]",
      "text/plain": [
       "<Figure size 640x480 with 2 Axes>"
      ]
     },
     "metadata": {},
     "output_type": "display_data"
    }
   ],
   "source": [
    "sns.heatmap(train.corr(), annot=True)\n",
    "plt.show()"
   ]
  },
  {
   "cell_type": "markdown",
   "metadata": {},
   "source": [
    "## Randomforest Regressor을 사용해 모델 생성"
   ]
  },
  {
   "cell_type": "code",
   "execution_count": 14,
   "metadata": {},
   "outputs": [
    {
     "name": "stdout",
     "output_type": "stream",
     "text": [
      "[329.22 751.48 108.73 ... 391.9  258.8   81.6 ]\n"
     ]
    }
   ],
   "source": [
    "from sklearn.ensemble import RandomForestRegressor\n",
    "\n",
    "train_x = train.drop('착과량(int)', axis=1)\n",
    "train_y = train['착과량(int)']\n",
    "\n",
    "rf = RandomForestRegressor()\n",
    "rf.fit(train_x, train_y)\n",
    "\n",
    "pred_rf = rf.predict(test)\n",
    "print(pred_rf)"
   ]
  },
  {
   "cell_type": "markdown",
   "metadata": {},
   "source": [
    "## XGBRegressor을 사용해 모델 생성"
   ]
  },
  {
   "cell_type": "code",
   "execution_count": 15,
   "metadata": {},
   "outputs": [
    {
     "name": "stdout",
     "output_type": "stream",
     "text": [
      "[365.00934 747.9306  118.35336 ... 390.65118 250.70367  76.75244]\n"
     ]
    }
   ],
   "source": [
    "from xgboost import XGBRegressor\n",
    "# from sklearn.model_selection import GridSearchCV\n",
    "# from sklearn.preprocessing import StandardScaler\n",
    "\n",
    "# params = {\n",
    "#     'n_estimators':[1,5,10,50,100,200],\n",
    "#     'max_depth':[1,5,10],\n",
    "#     'gamma':[0.0001, 0.001, 0.01, 0.1, 1]\n",
    "# }\n",
    "\n",
    "xg = XGBRegressor()\n",
    "xg.fit(train_x, train_y)\n",
    "pred_xg = xg.predict(test)\n",
    "print(pred_xg)"
   ]
  },
  {
   "cell_type": "markdown",
   "metadata": {},
   "source": [
    "## Randomforest와 XGBoost 예측 결과 제출"
   ]
  },
  {
   "cell_type": "code",
   "execution_count": 19,
   "metadata": {},
   "outputs": [],
   "source": [
    "preds = {'Randomforest':pred_rf, 'XGBoost':pred_xg}\n",
    "\n",
    "for s in ['Randomforest', 'XGBoost']:\n",
    "    sample_submission = pd.read_csv('tangerine/sample_submission.csv')\n",
    "\n",
    "    sample_submission['착과량(int)'] = preds[s]\n",
    "    sample_submission.to_csv('tangerine/'+s+'_submit.csv', index=False)"
   ]
  },
  {
   "cell_type": "markdown",
   "metadata": {},
   "source": [
    "## 예측 결과"
   ]
  },
  {
   "cell_type": "markdown",
   "metadata": {},
   "source": [
    "Randomforest"
   ]
  },
  {
   "cell_type": "markdown",
   "metadata": {},
   "source": [
    "![Alt text](rf.PNG)"
   ]
  },
  {
   "cell_type": "markdown",
   "metadata": {},
   "source": [
    "XGBoost"
   ]
  },
  {
   "cell_type": "markdown",
   "metadata": {},
   "source": [
    "![Alt text](xg.PNG)"
   ]
  },
  {
   "cell_type": "markdown",
   "metadata": {},
   "source": [
    "결과 : Randomforest의 성능이 조금 더 좋은것을 알 수 있음  \n",
    "  \n",
    "Randomforest 하이퍼 파라미터 튜닝을 이용하여 정확도 상승 시도"
   ]
  },
  {
   "cell_type": "markdown",
   "metadata": {},
   "source": [
    "## GridsearchCV 교차검증 알고리즘 설정"
   ]
  },
  {
   "cell_type": "code",
   "execution_count": null,
   "metadata": {},
   "outputs": [],
   "source": [
    "from sklearn.model_selection import GridSearchCV\n",
    "\n"
   ]
  }
 ],
 "metadata": {
  "kernelspec": {
   "display_name": "Python 3",
   "language": "python",
   "name": "python3"
  },
  "language_info": {
   "codemirror_mode": {
    "name": "ipython",
    "version": 3
   },
   "file_extension": ".py",
   "mimetype": "text/x-python",
   "name": "python",
   "nbconvert_exporter": "python",
   "pygments_lexer": "ipython3",
   "version": "3.11.4"
  },
  "orig_nbformat": 4
 },
 "nbformat": 4,
 "nbformat_minor": 2
}
