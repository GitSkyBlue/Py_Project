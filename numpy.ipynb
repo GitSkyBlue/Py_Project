{
 "cells": [
  {
   "cell_type": "markdown",
   "metadata": {},
   "source": [
    "## numpy 모듈 정리"
   ]
  },
  {
   "cell_type": "code",
   "execution_count": 2,
   "metadata": {},
   "outputs": [],
   "source": [
    "import numpy as np"
   ]
  },
  {
   "cell_type": "markdown",
   "metadata": {},
   "source": [
    "### numpy array 생성"
   ]
  },
  {
   "cell_type": "code",
   "execution_count": 13,
   "metadata": {},
   "outputs": [
    {
     "name": "stdout",
     "output_type": "stream",
     "text": [
      "Python List : [1, 2, 3]\n",
      "<class 'list'> \n",
      "\n",
      "Numpy List : [1 2 3]\n",
      "<class 'numpy.ndarray'>\n"
     ]
    }
   ],
   "source": [
    "lists = [1, 2, 3]\n",
    "print('Python List :', lists)\n",
    "print(type(lists), '\\n')\n",
    "\n",
    "np_list = np.array(lists)\n",
    "print('Numpy List :', np_list)\n",
    "print(type(np_list))"
   ]
  },
  {
   "cell_type": "markdown",
   "metadata": {},
   "source": [
    "* ### numpy array 형태(shape)"
   ]
  },
  {
   "cell_type": "code",
   "execution_count": 45,
   "metadata": {},
   "outputs": [
    {
     "name": "stdout",
     "output_type": "stream",
     "text": [
      "array_1d shape : (3,)\n",
      "array_2d shape : (2, 3)\n",
      "array_3d shape : (2, 2, 3)\n"
     ]
    }
   ],
   "source": [
    "array_1d = np.array([1,2,3])\n",
    "array_2d = np.array([[1,2,3], [4,5,6]])\n",
    "array_3d = np.array([[[1,2,3], [4,5,6]], [[7,8,9], [10,11,12]]])\n",
    "print('array_1d shape :', array_1d.shape)\n",
    "print('array_2d shape :', array_2d.shape)\n",
    "print('array_3d shape :', array_3d.shape)"
   ]
  },
  {
   "cell_type": "markdown",
   "metadata": {},
   "source": [
    "### 다양한 numpy 배열 생성\n",
    "* 모든 요소가 0인 배열  \n",
    "np.zeros(row, col)"
   ]
  },
  {
   "cell_type": "code",
   "execution_count": 48,
   "metadata": {},
   "outputs": [
    {
     "name": "stdout",
     "output_type": "stream",
     "text": [
      "[[0. 0. 0. 0.]\n",
      " [0. 0. 0. 0.]]\n"
     ]
    }
   ],
   "source": [
    "zeros = np.zeros((2, 4))\n",
    "print(zeros)"
   ]
  },
  {
   "cell_type": "markdown",
   "metadata": {},
   "source": [
    "* 모든 요소가 1인 배열  \n",
    "np.ones(row, col)"
   ]
  },
  {
   "cell_type": "code",
   "execution_count": 50,
   "metadata": {},
   "outputs": [
    {
     "name": "stdout",
     "output_type": "stream",
     "text": [
      "[[1. 1.]\n",
      " [1. 1.]\n",
      " [1. 1.]\n",
      " [1. 1.]]\n"
     ]
    }
   ],
   "source": [
    "ones = np.ones((4, 2))\n",
    "print(ones)"
   ]
  },
  {
   "cell_type": "markdown",
   "metadata": {},
   "source": [
    "* 특정 값으로 채우는 배열  \n",
    "np.full(row, col, value)"
   ]
  },
  {
   "cell_type": "code",
   "execution_count": 52,
   "metadata": {},
   "outputs": [
    {
     "name": "stdout",
     "output_type": "stream",
     "text": [
      "[[8 8 8 8]\n",
      " [8 8 8 8]]\n"
     ]
    }
   ],
   "source": [
    "full = np.full((2, 4), 8)\n",
    "print(full)"
   ]
  },
  {
   "cell_type": "markdown",
   "metadata": {},
   "source": [
    "* 일정 간격을 두고 배열 생성  \n",
    "np.linspace(0, 1, 5)"
   ]
  },
  {
   "cell_type": "code",
   "execution_count": 56,
   "metadata": {},
   "outputs": [
    {
     "name": "stdout",
     "output_type": "stream",
     "text": [
      "[0.   0.25 0.5  0.75 1.  ]\n"
     ]
    }
   ],
   "source": [
    "linspace = np.linspace(0, 1, 5)\n",
    "print(linspace)"
   ]
  },
  {
   "cell_type": "markdown",
   "metadata": {},
   "source": [
    "* 랜덤 값으로 배열 생성  \n",
    "np.random.rand(row, col)  \n",
    "np.random.randn(row, col)  \n",
    "randn은 정규 분포를 따르는 랜덤 값으로 생성"
   ]
  },
  {
   "cell_type": "code",
   "execution_count": 59,
   "metadata": {},
   "outputs": [
    {
     "name": "stdout",
     "output_type": "stream",
     "text": [
      "[[0.44341782 0.30849307]\n",
      " [0.47736423 0.03512256]]\n",
      "\n",
      "[[ 0.21205394 -0.4006682  -0.03605895]\n",
      " [ 0.49889386 -0.09300749 -1.58348108]\n",
      " [ 0.01853151  1.01021014 -0.68790096]]\n"
     ]
    }
   ],
   "source": [
    "rand = np.random.rand(2, 2)\n",
    "randn = np.random.randn(3, 3)\n",
    "print(rand)\n",
    "print()\n",
    "print(randn)"
   ]
  },
  {
   "cell_type": "markdown",
   "metadata": {},
   "source": [
    "### reshape, 차원 크기 변경"
   ]
  },
  {
   "cell_type": "markdown",
   "metadata": {},
   "source": [
    "* np.reshape((row, col))  \n",
    "-1 입력시 자동으로 차원 설정, -1은 row, col중 한 곳에만 설정 가능  \n",
    "n번째 파라미터로 n차원 값 설정 가능"
   ]
  },
  {
   "cell_type": "code",
   "execution_count": 78,
   "metadata": {},
   "outputs": [
    {
     "name": "stdout",
     "output_type": "stream",
     "text": [
      "Before reshaped\n",
      "[0. 0. 0. 0. 0. 0. 0. 0. 0. 0. 0. 0.]\n",
      "\n",
      "After reshaped\n",
      "[[0. 0. 0. 0. 0. 0.]\n",
      " [0. 0. 0. 0. 0. 0.]]\n",
      "array1 shape : (2, 6)\n",
      "\n",
      "After reshaped with -1\n",
      "[[0. 0. 0.]\n",
      " [0. 0. 0.]\n",
      " [0. 0. 0.]\n",
      " [0. 0. 0.]]\n",
      "array1 shape : (4, 3)\n",
      "\n",
      "After reshaped 3D\n",
      "[[[0. 0.]\n",
      "  [0. 0.]\n",
      "  [0. 0.]]\n",
      "\n",
      " [[0. 0.]\n",
      "  [0. 0.]\n",
      "  [0. 0.]]]\n",
      "array1 shape : (2, 3, 2)\n"
     ]
    }
   ],
   "source": [
    "array1 = np.zeros(12)\n",
    "print('Before reshaped')\n",
    "print(array1)\n",
    "\n",
    "array1 = array1.reshape((2, 6))\n",
    "print('\\nAfter reshaped')\n",
    "print(array1)\n",
    "print('array1 shape :', array1.shape)\n",
    "\n",
    "array1 = array1.reshape((4, -1))\n",
    "print('\\nAfter reshaped with -1')\n",
    "print(array1)\n",
    "print('array1 shape :', array1.shape)\n",
    "\n",
    "array1 = array1.reshape((2, 3, 2))\n",
    "print('\\nAfter reshaped 3D')\n",
    "print(array1)\n",
    "print('array1 shape :', array1.shape)"
   ]
  },
  {
   "cell_type": "markdown",
   "metadata": {},
   "source": [
    "### Indexing 특정 위치의 값 추출  \n",
    "list와 사용법 같음"
   ]
  },
  {
   "cell_type": "code",
   "execution_count": 88,
   "metadata": {},
   "outputs": [
    {
     "name": "stdout",
     "output_type": "stream",
     "text": [
      "변경 전 : [0 1 2 3 4 5 6 7 8 9]\n",
      "변경 후 : [0 1 9 3 4 1 6 7 8 9]\n"
     ]
    }
   ],
   "source": [
    "array1 = np.arange(10)\n",
    "print('변경 전 :', array1)\n",
    "# 5번째 값을 1로, 2번째 값을 9로 변경\n",
    "array1[5] = 1\n",
    "array1[2] = 9\n",
    "print('변경 후 :', array1)"
   ]
  },
  {
   "cell_type": "markdown",
   "metadata": {},
   "source": [
    "### Slicing, 리스트 일정 부분 추출  \n",
    "* array[n:m, n:m]"
   ]
  },
  {
   "cell_type": "code",
   "execution_count": 106,
   "metadata": {},
   "outputs": [
    {
     "name": "stdout",
     "output_type": "stream",
     "text": [
      "array1 기본\n",
      "[[0 1 2]\n",
      " [3 4 5]\n",
      " [6 7 8]]\n",
      "array1[0:2, 0:2]\n",
      "[[0 1]\n",
      " [3 4]]\n",
      "array1[1:3, 0:3]\n",
      "[[3 4 5]\n",
      " [6 7 8]]\n",
      "array1[:, 1:3]\n",
      "[[1 2]\n",
      " [4 5]\n",
      " [7 8]]\n",
      "array1[:2, 1:]\n",
      "[[1 2]\n",
      " [4 5]]\n"
     ]
    }
   ],
   "source": [
    "array1 = np.arange(9).reshape((3, 3))\n",
    "print('array1 기본')\n",
    "print(array1)\n",
    "print('array1[0:2, 0:2]')\n",
    "print(array1[0:2, 0:2])\n",
    "print('array1[1:3, 0:3]')\n",
    "print(array1[1:3, 0:3])\n",
    "print('array1[:, 1:3]')\n",
    "print(array1[:, 1:3])\n",
    "print('array1[:2, 1:]')\n",
    "print(array1[:2, 1:])"
   ]
  },
  {
   "cell_type": "markdown",
   "metadata": {},
   "source": [
    "### numpy array 정렬  \n",
    "* np.sort() 기본 오름차순, 내림차순 정렬 시 np.sort()[::-1]  \n",
    "np.sort(array)"
   ]
  },
  {
   "cell_type": "code",
   "execution_count": 110,
   "metadata": {},
   "outputs": [
    {
     "name": "stdout",
     "output_type": "stream",
     "text": [
      "원본 array : [5 1 3 9]\n",
      "정렬된 array : [1 3 5 9]\n",
      "내림차순 정렬된 array : [9 5 3 1]\n"
     ]
    }
   ],
   "source": [
    "array1 = np.array([5, 1, 3, 9])\n",
    "print('원본 array :', array1)\n",
    "sorted_array1 = np.sort(array1)\n",
    "print('정렬된 array :', sorted_array1)\n",
    "sorted_array1 = np.sort(array1)[::-1]\n",
    "print('내림차순 정렬된 array :', sorted_array1)"
   ]
  },
  {
   "cell_type": "markdown",
   "metadata": {},
   "source": [
    "* axis 기반의 정렬  \n",
    "np.sort(array, axis=n)"
   ]
  },
  {
   "cell_type": "code",
   "execution_count": 114,
   "metadata": {},
   "outputs": [
    {
     "name": "stdout",
     "output_type": "stream",
     "text": [
      "원본 array :\n",
      " [[ 8 12]\n",
      " [ 7  1]]\n",
      "row 방향 정렬 :\n",
      " [[ 7  1]\n",
      " [ 8 12]]\n",
      "col 방향 정렬 :\n",
      " [[ 8 12]\n",
      " [ 1  7]]\n"
     ]
    }
   ],
   "source": [
    "array1 = np.array([[8, 12], [7, 1]])\n",
    "print('원본 array :\\n', array1)\n",
    "sorted_array1 = np.sort(array1, axis=0)\n",
    "print('row 방향 정렬 :\\n', sorted_array1)\n",
    "sorted_array1 = np.sort(array1, axis=1)\n",
    "print('col 방향 정렬 :\\n', sorted_array1)"
   ]
  },
  {
   "cell_type": "markdown",
   "metadata": {},
   "source": [
    "* 정렬된 array의 인덱스 반환  \n",
    "argsort(array), 내림차순 정렬 시 np.argsort(array)[::-1]"
   ]
  },
  {
   "cell_type": "code",
   "execution_count": 118,
   "metadata": {},
   "outputs": [
    {
     "name": "stdout",
     "output_type": "stream",
     "text": [
      "원본 array : [5 1 3 9]\n",
      "argsort를 사용한 array : [1 2 0 3]\n"
     ]
    }
   ],
   "source": [
    "array1 = np.array([5, 1, 3, 9])\n",
    "print('원본 array :', array1)\n",
    "array1 = np.argsort(array1, axis=0)\n",
    "print('argsort를 사용한 array :', array1)"
   ]
  },
  {
   "cell_type": "markdown",
   "metadata": {},
   "source": [
    "### 행렬 연산\n",
    "* 행렬 내적  \n",
    "np.dot(a, b)"
   ]
  },
  {
   "cell_type": "code",
   "execution_count": 120,
   "metadata": {},
   "outputs": [
    {
     "name": "stdout",
     "output_type": "stream",
     "text": [
      "행렬 내적 값 :\n",
      " [[ 58  64]\n",
      " [139 154]]\n"
     ]
    }
   ],
   "source": [
    "a = np.array([[1, 2, 3],\n",
    "             [4, 5, 6]])\n",
    "b = np.array([[7, 8],\n",
    "              [9, 10],\n",
    "              [11, 12]])\n",
    "\n",
    "dot_calc = np.dot(a, b)\n",
    "print('행렬 내적 값 :\\n', dot_calc)"
   ]
  },
  {
   "cell_type": "markdown",
   "metadata": {},
   "source": [
    "* 전치 행렬  \n",
    "np.transpose(array)"
   ]
  },
  {
   "cell_type": "code",
   "execution_count": 123,
   "metadata": {},
   "outputs": [
    {
     "name": "stdout",
     "output_type": "stream",
     "text": [
      "원본 array1 :\n",
      " [[1 2]\n",
      " [3 4]]\n",
      "Transpose된 array1 :\n",
      " [[1 3]\n",
      " [2 4]]\n"
     ]
    }
   ],
   "source": [
    "array1 = np.array([[1, 2], [3, 4]])\n",
    "print('원본 array1 :\\n', array1)\n",
    "array1 = np.transpose(array1)\n",
    "print('Transpose된 array1 :\\n', array1)"
   ]
  },
  {
   "cell_type": "markdown",
   "metadata": {},
   "source": [
    "### 조건 처리\n",
    "np.where(조건, 참일시 값, else값)"
   ]
  },
  {
   "cell_type": "code",
   "execution_count": 127,
   "metadata": {},
   "outputs": [
    {
     "name": "stdout",
     "output_type": "stream",
     "text": [
      "원본 array1 :\n",
      " [[0 1 2]\n",
      " [3 4 5]\n",
      " [6 7 8]]\n",
      "조건 처리된 array1 :\n",
      " [[0 0 0]\n",
      " [0 0 1]\n",
      " [1 1 1]]\n"
     ]
    }
   ],
   "source": [
    "array1 = np.arange(9).reshape(3, 3)\n",
    "print('원본 array1 :\\n', array1)\n",
    "print('조건 처리된 array1 :\\n', np.where(array1 < 5, 0, 1))"
   ]
  },
  {
   "cell_type": "markdown",
   "metadata": {},
   "source": [
    "### 결측 값 처리\n",
    "* 결측값이면 true, 아니면 false  \n",
    "np.isnan(array)"
   ]
  },
  {
   "cell_type": "code",
   "execution_count": 132,
   "metadata": {},
   "outputs": [
    {
     "name": "stdout",
     "output_type": "stream",
     "text": [
      "원본 array1 :\n",
      " [[ 1.  2.  3.  4.]\n",
      " [nan nan nan  8.]\n",
      " [ 9. 10. 11. nan]]\n",
      "결측치 처리된 array1 :\n",
      " [[False False False False]\n",
      " [ True  True  True False]\n",
      " [False False False  True]]\n"
     ]
    }
   ],
   "source": [
    "array1 = np.array([[1, 2, 3, 4],\n",
    "                   [np.nan, np.nan, np.nan, 8],\n",
    "                   [9, 10, 11, np.nan]])\n",
    "print('원본 array1 :\\n', array1)\n",
    "print('결측치 처리된 array1 :\\n', np.isnan(array1))"
   ]
  },
  {
   "cell_type": "markdown",
   "metadata": {},
   "source": [
    "* 결측치 전부 0으로 변경  \n",
    "np.nan_to_num(array, nan=value)"
   ]
  },
  {
   "cell_type": "code",
   "execution_count": 138,
   "metadata": {},
   "outputs": [
    {
     "name": "stdout",
     "output_type": "stream",
     "text": [
      "결측치 변경된 array1(default) :\n",
      " [[ 1.  2.  3.  4.]\n",
      " [ 0.  0.  0.  8.]\n",
      " [ 9. 10. 11.  0.]]\n",
      "결측치 변경된 array1(-1) :\n",
      " [[ 1.  2.  3.  4.]\n",
      " [-1. -1. -1.  8.]\n",
      " [ 9. 10. 11. -1.]]\n"
     ]
    }
   ],
   "source": [
    "array1 = np.array([[1, 2, 3, 4],\n",
    "                   [np.nan, np.nan, np.nan, 8],\n",
    "                   [9, 10, 11, np.nan]])\n",
    "print('결측치 변경된 array1(default) :\\n', np.nan_to_num(array1))\n",
    "print('결측치 변경된 array1(-1) :\\n', np.nan_to_num(array1, nan=-1))"
   ]
  },
  {
   "cell_type": "markdown",
   "metadata": {},
   "source": [
    "* 결측치를 평균으로 변경  \n",
    "np.nan_to_num(array, nan=np.nanmean(array))"
   ]
  },
  {
   "cell_type": "code",
   "execution_count": 142,
   "metadata": {},
   "outputs": [
    {
     "name": "stdout",
     "output_type": "stream",
     "text": [
      "결측치 평균 array1 :\n",
      " [[ 1.  2.  3.  4.]\n",
      " [ 6.  6.  6.  8.]\n",
      " [ 9. 10. 11.  6.]]\n"
     ]
    }
   ],
   "source": [
    "print('결측치 평균 array1 :\\n', np.nan_to_num(array1, nan=np.nanmean(array1)))"
   ]
  },
  {
   "cell_type": "markdown",
   "metadata": {},
   "source": [
    "### any(), all()\n",
    "* axis에 nan값이 하나라도 있으면 true, 아니면 false  \n",
    "np.any()"
   ]
  },
  {
   "cell_type": "code",
   "execution_count": 150,
   "metadata": {},
   "outputs": [
    {
     "name": "stdout",
     "output_type": "stream",
     "text": [
      "원본 array1 :\n",
      " [[ 1.  2.  3.  4.]\n",
      " [nan nan nan  8.]\n",
      " [ 9. 10. 11. nan]]\n",
      "np.any 사용(axis=0):\n",
      " [ True  True  True  True]\n",
      "np.any 사용(axis=1):\n",
      " [False  True  True]\n"
     ]
    }
   ],
   "source": [
    "print('원본 array1 :\\n', array1)\n",
    "print('np.any 사용(axis=0):\\n', np.isnan(array1).any(axis=0))\n",
    "print('np.any 사용(axis=1):\\n', np.isnan(array1).any(axis=1))"
   ]
  },
  {
   "cell_type": "markdown",
   "metadata": {},
   "source": [
    "* 배열의 모든 데이터가 조건에 맞으면 true, 아니면 false  \n",
    "np.all()"
   ]
  },
  {
   "cell_type": "code",
   "execution_count": 156,
   "metadata": {},
   "outputs": [
    {
     "name": "stdout",
     "output_type": "stream",
     "text": [
      "원본 array1 :\n",
      " [[ 1.  2.  3.  4.]\n",
      " [nan nan nan nan]\n",
      " [ 9. 10. 11. nan]]\n",
      "np.all 사용(axis=0) :\n",
      " [False False False False]\n",
      "np.all 사용(axis=1) :\n",
      " [False  True False]\n"
     ]
    }
   ],
   "source": [
    "array1 = np.array([[1, 2, 3, 4],\n",
    "                   [np.nan, np.nan, np.nan, np.nan],\n",
    "                   [9, 10, 11, np.nan]])\n",
    "print('원본 array1 :\\n', array1)\n",
    "print('np.all 사용(axis=0) :\\n', np.isnan(array1).all(axis=0))\n",
    "print('np.all 사용(axis=1) :\\n', np.isnan(array1).all(axis=1))"
   ]
  },
  {
   "cell_type": "code",
   "execution_count": null,
   "metadata": {},
   "outputs": [],
   "source": []
  }
 ],
 "metadata": {
  "kernelspec": {
   "display_name": "Python 3",
   "language": "python",
   "name": "python3"
  },
  "language_info": {
   "codemirror_mode": {
    "name": "ipython",
    "version": 3
   },
   "file_extension": ".py",
   "mimetype": "text/x-python",
   "name": "python",
   "nbconvert_exporter": "python",
   "pygments_lexer": "ipython3",
   "version": "3.11.4"
  },
  "orig_nbformat": 4
 },
 "nbformat": 4,
 "nbformat_minor": 4
}
